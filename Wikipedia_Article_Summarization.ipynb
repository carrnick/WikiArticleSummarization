{
  "nbformat": 4,
  "nbformat_minor": 0,
  "metadata": {
    "colab": {
      "name": "Wikipedia Article Summarization",
      "provenance": []
    },
    "kernelspec": {
      "name": "python3",
      "display_name": "Python 3"
    },
    "language_info": {
      "name": "python"
    }
  },
  "cells": [
    {
      "cell_type": "markdown",
      "source": [
        "# Wikipedia Article Summarization"
      ],
      "metadata": {
        "id": "fBIRZaWdBbMJ"
      }
    },
    {
      "cell_type": "markdown",
      "source": [
        "This class summarizes a Wikipedia page using [Hugging Face's DistilBart text summarization model](https://huggingface.co/sshleifer/distilbart-cnn-12-6) given a valid article.\n",
        "\n",
        "### How it works/How to use:\n",
        "1.   Instantiate WikiSummarizer\n",
        "```\n",
        "      w = WikiSummarizer()\n",
        "```\n",
        "2.   Pass in a URL to the `summary` method of the instantiated object\n",
        "```\n",
        "      url = 'https://en.wikipedia.org/wiki/Ww2'\n",
        "      w.summarize(url)\n",
        "```\n",
        "\n",
        "3. Optionally pass in an integer for max_splits. This parameter defines how long the summarization should be. The `distilbart-cnn-12-6` model can only summarize 500 words at a time. By default `max_splits` is 1, so the first 500 words will be summarized. Setting `max_splits` to 2 will summarize and return the first 1000 words, and so on. It may take a while to run anything over the default setting, so be conservative with this parameter.\n",
        "```\n",
        "      w.summarize(url, max_splits=2)\n",
        "```\n",
        "\n",
        "\n",
        "\n"
      ],
      "metadata": {
        "id": "Uo_MYqyVBgVg"
      }
    },
    {
      "cell_type": "code",
      "source": [
        "%%capture\n",
        "!pip install transformers"
      ],
      "metadata": {
        "id": "NBHQ9hbD0Oi_"
      },
      "execution_count": 1,
      "outputs": []
    },
    {
      "cell_type": "code",
      "execution_count": 2,
      "metadata": {
        "id": "ZJ-1rJM1s8hl"
      },
      "outputs": [],
      "source": [
        "import requests\n",
        "from bs4 import BeautifulSoup\n",
        "import re\n",
        "from transformers import pipeline"
      ]
    },
    {
      "cell_type": "code",
      "source": [
        "class WikiSummarizer():\n",
        "  def __init__(self):\n",
        "    pass\n",
        "  \n",
        "  def __remove_tags(self, t):\n",
        "    '''\n",
        "    Removes HTML tags and removes unneeded characters from text.\n",
        "    '''\n",
        "    t = str(t)\n",
        "    t = t.replace('\\\\', '')\n",
        "    t = t.replace('\\n', '')\n",
        "    t = re.sub('\\[\\d+]', '', t)\n",
        "    t = re.sub('<[^>]+>', '', t)\n",
        "    return t\n",
        "\n",
        "  def __retrieve_and_clean_text(self, url):\n",
        "    '''\n",
        "    Retrieves text from Wikipedia article, cleans it, and returns the full page as a string.\n",
        "    '''\n",
        "    res = requests.get(url)\n",
        "    soup = BeautifulSoup(res.text, 'html.parser')\n",
        "    text = soup.find_all('p')\n",
        "\n",
        "    return ' '.join(list(map(self.__remove_tags, text)))\n",
        "\n",
        "\n",
        "  def summarize(self, url, max_splits: int = 1):\n",
        "    '''\n",
        "    Summarizes Wikipedia article.\n",
        "    '''\n",
        "\n",
        "    # Checks if URL is a string and if URL is valid.\n",
        "    assert type(url) == str, 'url parameter must be a string.'\n",
        "    assert 'https://en.wikipedia.org/wiki' in url, 'Must be a valid wikipedia article.'\n",
        "    \n",
        "\n",
        "    # Sets the minimum and maximum length of the document.\n",
        "    MIN_LENGTH = 56\n",
        "    MAX_LENGTH = 142\n",
        "    summarized_list, start, end, iter = [], 0, 500, 500\n",
        "\n",
        "    # Cleans text\n",
        "    text = self.__retrieve_and_clean_text(url)\n",
        "\n",
        "    # If the document length is smaller than the max length of the model, the max length is reduced to avoid unnecessary computation.\n",
        "    doc_length = len(text.split())\n",
        "    if doc_length < MAX_LENGTH:\n",
        "      MAX_LENGTH, MIN_LENGTH, end = doc_length, 0, doc_length\n",
        "\n",
        "    # Instantiates HuggingFace's DistilBart model for text summarization.\n",
        "    summary_model = pipeline('summarization', \n",
        "                             model='sshleifer/distilbart-cnn-12-6',\n",
        "                             max_length = MAX_LENGTH,\n",
        "                             min_length = MIN_LENGTH)\n",
        "    \n",
        "    # Summarizes text 500 words at a time, depending on max_splits parameter.\n",
        "    for s in range(0, max_splits):\n",
        "      summary = summary_model(' '.join(text.split()[start:end]))\n",
        "      summarized_list.append(summary[0]['summary_text'])\n",
        "      start = end\n",
        "      end = end + iter\n",
        "      # If the end of the article is reached but there are stil more loops to go through.\n",
        "      if end > len(text.split()):\n",
        "        break\n",
        "\n",
        "    # Returns summarized text as a string\n",
        "    return ' '.join(summarized_list)"
      ],
      "metadata": {
        "id": "molyR3eZ8ej3"
      },
      "execution_count": 73,
      "outputs": []
    },
    {
      "cell_type": "code",
      "source": [
        "w = WikiSummarizer()\n",
        "url = 'https://en.wikipedia.org/wiki/World_War_II'\n",
        "w.summarize(url)"
      ],
      "metadata": {
        "colab": {
          "base_uri": "https://localhost:8080/",
          "height": 87
        },
        "id": "xn3yMdqJtUjF",
        "outputId": "d89112ad-b38f-45f3-fb76-20b4f050c474"
      },
      "execution_count": 72,
      "outputs": [
        {
          "output_type": "execute_result",
          "data": {
            "text/plain": [
              "\" World War II or the Second World War, often abbreviated as WWII or WW2, was a global war that lasted from 1939 to 1945 . It involved the vast majority of the world's countries, including all of the great powers, forming two opposing military alliances: the Allies and the Axis powers . Aircraft played a major role in the conflict, enabling the strategic bombing of population centres and the only two uses of nuclear weapons in war . It resulted in 70 to 85 million fatalities, a majority being civilians .\""
            ],
            "application/vnd.google.colaboratory.intrinsic+json": {
              "type": "string"
            }
          },
          "metadata": {},
          "execution_count": 72
        }
      ]
    },
    {
      "cell_type": "code",
      "source": [
        "w.summarize(url, max_splits=3)"
      ],
      "metadata": {
        "colab": {
          "base_uri": "https://localhost:8080/",
          "height": 174
        },
        "id": "OhlDRQKXDunC",
        "outputId": "088748fc-33d3-4f4f-82fe-05b681117e4f"
      },
      "execution_count": 74,
      "outputs": [
        {
          "output_type": "execute_result",
          "data": {
            "text/plain": [
              "\" World War II or the Second World War, often abbreviated as WWII or WW2, was a global war that lasted from 1939 to 1945 . It involved the vast majority of the world's countries, including all of the great powers, forming two opposing military alliances: the Allies and the Axis powers . Aircraft played a major role in the conflict, enabling the strategic bombing of population centres and the only two uses of nuclear weapons in war . It resulted in 70 to 85 million fatalities, a majority being civilians .  World War II changed the political alignment and social structure of the globe . The United Nations was established to foster international co-operation and prevent future conflicts . The Soviet Union and the United States emerged as rival superpowers, setting the stage for the Cold War . The influence of its great powers waned, triggering the decolonisation of Africa and Asia .  The exact date of the war's end is also not universally agreed upon . It was generally accepted at the time that the war ended with the armistice of 14 August 1945 (V-J Day) rather than with the formal surrender of Japan on 2 September 1945 . A peace treaty between Japan and the Allies was signed in 1951 . A 1990 treaty regarding Germany's future allowed the reunification of East and West Germany to take place .\""
            ],
            "application/vnd.google.colaboratory.intrinsic+json": {
              "type": "string"
            }
          },
          "metadata": {},
          "execution_count": 74
        }
      ]
    }
  ]
}